{
 "cells": [
  {
   "cell_type": "code",
   "execution_count": 1,
   "metadata": {},
   "outputs": [
    {
     "name": "stderr",
     "output_type": "stream",
     "text": [
      "d:\\programs\\anaconda3\\envs\\dl\\lib\\site-packages\\tqdm\\auto.py:22: TqdmWarning: IProgress not found. Please update jupyter and ipywidgets. See https://ipywidgets.readthedocs.io/en/stable/user_install.html\n",
      "  from .autonotebook import tqdm as notebook_tqdm\n"
     ]
    }
   ],
   "source": [
    "import torch\n",
    "from data import DiffSet\n",
    "import pytorch_lightning as pl\n",
    "from model import DiffusionModel\n",
    "from torch.utils.data import DataLoader\n",
    "import imageio\n",
    "import glob\n",
    "\n",
    "%load_ext autoreload\n",
    "%autoreload 2"
   ]
  },
  {
   "cell_type": "code",
   "execution_count": 2,
   "metadata": {},
   "outputs": [],
   "source": [
    "# Training hyperparameters\n",
    "diffusion_steps = 1000\n",
    "dataset_choice = \"CIFAR\"\n",
    "max_epoch = 10\n",
    "batch_size = 128\n",
    "\n",
    "# Loading parameters\n",
    "load_model = False\n",
    "load_version_num = 1"
   ]
  },
  {
   "cell_type": "code",
   "execution_count": 3,
   "metadata": {},
   "outputs": [],
   "source": [
    "# Code for optionally loading model\n",
    "pass_version = None\n",
    "last_checkpoint = None\n",
    "\n",
    "if load_model:\n",
    "    pass_version = load_version_num\n",
    "    last_checkpoint = glob.glob(\n",
    "        f\"./lightning_logs/{dataset_choice}/version_{load_version_num}/checkpoints/*.ckpt\"\n",
    "    )[-1]"
   ]
  },
  {
   "cell_type": "code",
   "execution_count": 4,
   "metadata": {},
   "outputs": [
    {
     "data": {
      "text/plain": [
       "('1.7.1+cu110', '0.8.2+cu110')"
      ]
     },
     "execution_count": 4,
     "metadata": {},
     "output_type": "execute_result"
    }
   ],
   "source": [
    "import torchvision\n",
    "torch.__version__, torchvision.__version__"
   ]
  },
  {
   "cell_type": "code",
   "execution_count": 7,
   "metadata": {},
   "outputs": [
    {
     "name": "stdout",
     "output_type": "stream",
     "text": [
      "Files already downloaded and verified\n",
      "Files already downloaded and verified\n"
     ]
    },
    {
     "ename": "TypeError",
     "evalue": "__init__() got an unexpected keyword argument 'batch_first'",
     "output_type": "error",
     "traceback": [
      "\u001b[1;31m---------------------------------------------------------------------------\u001b[0m",
      "\u001b[1;31mTypeError\u001b[0m                                 Traceback (most recent call last)",
      "\u001b[1;32md:\\codes\\ShyunGit\\diffusion_study\\entry.ipynb Cell 5\u001b[0m line \u001b[0;36m1\n\u001b[0;32m     <a href='vscode-notebook-cell:/d%3A/codes/ShyunGit/diffusion_study/entry.ipynb#W5sZmlsZQ%3D%3D?line=9'>10</a>\u001b[0m     model \u001b[39m=\u001b[39m DiffusionModel\u001b[39m.\u001b[39mload_from_checkpoint(last_checkpoint, in_size\u001b[39m=\u001b[39mtrain_dataset\u001b[39m.\u001b[39msize\u001b[39m*\u001b[39mtrain_dataset\u001b[39m.\u001b[39msize, t_range\u001b[39m=\u001b[39mdiffusion_steps, img_depth\u001b[39m=\u001b[39mtrain_dataset\u001b[39m.\u001b[39mdepth)\n\u001b[0;32m     <a href='vscode-notebook-cell:/d%3A/codes/ShyunGit/diffusion_study/entry.ipynb#W5sZmlsZQ%3D%3D?line=10'>11</a>\u001b[0m \u001b[39melse\u001b[39;00m:\n\u001b[1;32m---> <a href='vscode-notebook-cell:/d%3A/codes/ShyunGit/diffusion_study/entry.ipynb#W5sZmlsZQ%3D%3D?line=11'>12</a>\u001b[0m     model \u001b[39m=\u001b[39m DiffusionModel(train_dataset\u001b[39m.\u001b[39;49msize\u001b[39m*\u001b[39;49mtrain_dataset\u001b[39m.\u001b[39;49msize, diffusion_steps, train_dataset\u001b[39m.\u001b[39;49mdepth)\n",
      "File \u001b[1;32md:\\codes\\ShyunGit\\diffusion_study\\model.py:26\u001b[0m, in \u001b[0;36mDiffusionModel.__init__\u001b[1;34m(self, in_size, t_range, img_depth)\u001b[0m\n\u001b[0;32m     24\u001b[0m \u001b[39mself\u001b[39m\u001b[39m.\u001b[39mup3 \u001b[39m=\u001b[39m Up(\u001b[39m128\u001b[39m, \u001b[39m64\u001b[39m, bilinear)\n\u001b[0;32m     25\u001b[0m \u001b[39mself\u001b[39m\u001b[39m.\u001b[39moutc \u001b[39m=\u001b[39m OutConv(\u001b[39m64\u001b[39m, img_depth)\n\u001b[1;32m---> 26\u001b[0m \u001b[39mself\u001b[39m\u001b[39m.\u001b[39msa1 \u001b[39m=\u001b[39m SAWrapper(\u001b[39m256\u001b[39;49m, \u001b[39m8\u001b[39;49m)\n\u001b[0;32m     27\u001b[0m \u001b[39mself\u001b[39m\u001b[39m.\u001b[39msa2 \u001b[39m=\u001b[39m SAWrapper(\u001b[39m256\u001b[39m, \u001b[39m4\u001b[39m)\n\u001b[0;32m     28\u001b[0m \u001b[39mself\u001b[39m\u001b[39m.\u001b[39msa3 \u001b[39m=\u001b[39m SAWrapper(\u001b[39m128\u001b[39m, \u001b[39m8\u001b[39m)\n",
      "File \u001b[1;32md:\\codes\\ShyunGit\\diffusion_study\\modules.py:32\u001b[0m, in \u001b[0;36m__init__\u001b[1;34m(self, h_size, num_s)\u001b[0m\n\u001b[0;32m     30\u001b[0m \u001b[39m# super(SAWrapper, self).__init__()\u001b[39;00m\n\u001b[0;32m     31\u001b[0m \u001b[39mself\u001b[39m\u001b[39m.\u001b[39msa \u001b[39m=\u001b[39m nn\u001b[39m.\u001b[39mSequential(\u001b[39m*\u001b[39m[SelfAttention(h_size) \u001b[39mfor\u001b[39;00m _ \u001b[39min\u001b[39;00m \u001b[39mrange\u001b[39m(\u001b[39m1\u001b[39m)])\n\u001b[1;32m---> 32\u001b[0m \u001b[39mself\u001b[39m\u001b[39m.\u001b[39mnum_s \u001b[39m=\u001b[39m num_s\n\u001b[0;32m     33\u001b[0m \u001b[39mself\u001b[39m\u001b[39m.\u001b[39mh_size \u001b[39m=\u001b[39m h_size\n",
      "File \u001b[1;32md:\\codes\\ShyunGit\\diffusion_study\\modules.py:32\u001b[0m, in \u001b[0;36m<listcomp>\u001b[1;34m(.0)\u001b[0m\n\u001b[0;32m     30\u001b[0m \u001b[39msuper\u001b[39m()\u001b[39m.\u001b[39m\u001b[39m__init__\u001b[39m()\n\u001b[0;32m     31\u001b[0m \u001b[39m# super(SAWrapper, self).__init__()\u001b[39;00m\n\u001b[1;32m---> 32\u001b[0m \u001b[39mself\u001b[39m\u001b[39m.\u001b[39msa \u001b[39m=\u001b[39m nn\u001b[39m.\u001b[39mSequential(\u001b[39m*\u001b[39m[SelfAttention(h_size) \u001b[39mfor\u001b[39;00m _ \u001b[39min\u001b[39;00m \u001b[39mrange\u001b[39m(\u001b[39m1\u001b[39m)])\n\u001b[0;32m     33\u001b[0m \u001b[39mself\u001b[39m\u001b[39m.\u001b[39mnum_s \u001b[39m=\u001b[39m num_s\n\u001b[0;32m     34\u001b[0m \u001b[39mself\u001b[39m\u001b[39m.\u001b[39mh_size \u001b[39m=\u001b[39m h_size\n",
      "File \u001b[1;32md:\\codes\\ShyunGit\\diffusion_study\\modules.py:11\u001b[0m, in \u001b[0;36mSelfAttention.__init__\u001b[1;34m(self, h_size)\u001b[0m\n\u001b[0;32m      9\u001b[0m \u001b[39msuper\u001b[39m()\u001b[39m.\u001b[39m\u001b[39m__init__\u001b[39m()\n\u001b[0;32m     10\u001b[0m \u001b[39mself\u001b[39m\u001b[39m.\u001b[39mh_size \u001b[39m=\u001b[39m h_size\n\u001b[1;32m---> 11\u001b[0m \u001b[39mself\u001b[39m\u001b[39m.\u001b[39mmha \u001b[39m=\u001b[39m nn\u001b[39m.\u001b[39;49mMultiheadAttention(h_size, \u001b[39m4\u001b[39;49m, batch_first\u001b[39m=\u001b[39;49m\u001b[39mTrue\u001b[39;49;00m)\n\u001b[0;32m     12\u001b[0m \u001b[39mself\u001b[39m\u001b[39m.\u001b[39mln \u001b[39m=\u001b[39m nn\u001b[39m.\u001b[39mLayerNorm([h_size])\n\u001b[0;32m     13\u001b[0m \u001b[39mself\u001b[39m\u001b[39m.\u001b[39mff_self \u001b[39m=\u001b[39m nn\u001b[39m.\u001b[39mSequential(\n\u001b[0;32m     14\u001b[0m     nn\u001b[39m.\u001b[39mLayerNorm([h_size]),\n\u001b[0;32m     15\u001b[0m     nn\u001b[39m.\u001b[39mLinear(h_size, h_size),\n\u001b[0;32m     16\u001b[0m     nn\u001b[39m.\u001b[39mGELU(),\n\u001b[0;32m     17\u001b[0m     nn\u001b[39m.\u001b[39mLinear(h_size, h_size),\n\u001b[0;32m     18\u001b[0m )\n",
      "\u001b[1;31mTypeError\u001b[0m: __init__() got an unexpected keyword argument 'batch_first'"
     ]
    }
   ],
   "source": [
    "# Create datasets and data loaders\n",
    "train_dataset = DiffSet(True, dataset_choice)\n",
    "val_dataset = DiffSet(False, dataset_choice)\n",
    "\n",
    "train_loader = DataLoader(train_dataset, batch_size=batch_size, num_workers=4, shuffle=True)\n",
    "val_loader = DataLoader(val_dataset, batch_size=batch_size, num_workers=4, shuffle=True)\n",
    "\n",
    "# Create model and trainer\n",
    "if load_model:\n",
    "    model = DiffusionModel.load_from_checkpoint(last_checkpoint, in_size=train_dataset.size*train_dataset.size, t_range=diffusion_steps, img_depth=train_dataset.depth)\n",
    "else:\n",
    "    model = DiffusionModel(train_dataset.size*train_dataset.size, diffusion_steps, train_dataset.depth)"
   ]
  },
  {
   "cell_type": "code",
   "execution_count": null,
   "metadata": {},
   "outputs": [],
   "source": [
    "# Load Trainer model\n",
    "tb_logger = pl.loggers.TensorBoardLogger(\n",
    "    \"lightning_logs/\",\n",
    "    name=dataset_choice,\n",
    "    version=pass_version,\n",
    ")\n",
    "\n",
    "trainer = pl.Trainer(\n",
    "    max_epochs=max_epoch, \n",
    "    log_every_n_steps=10, \n",
    "    gpus=1, \n",
    "    auto_select_gpus=True,\n",
    "    resume_from_checkpoint=last_checkpoint, \n",
    "    logger=tb_logger\n",
    ")"
   ]
  },
  {
   "cell_type": "code",
   "execution_count": null,
   "metadata": {},
   "outputs": [],
   "source": [
    "# Train model\n",
    "trainer.fit(model, train_loader, val_loader)"
   ]
  },
  {
   "cell_type": "code",
   "execution_count": null,
   "metadata": {},
   "outputs": [],
   "source": [
    "gif_shape = [3, 3]\n",
    "sample_batch_size = gif_shape[0] * gif_shape[1]\n",
    "n_hold_final = 10\n",
    "\n",
    "# Generate samples from denoising process\n",
    "gen_samples = []\n",
    "x = torch.randn((sample_batch_size, train_dataset.depth, train_dataset.size, train_dataset.size))\n",
    "sample_steps = torch.arange(model.t_range-1, 0, -1)\n",
    "for t in sample_steps:\n",
    "    x = model.denoise_sample(x, t)\n",
    "    if t % 50 == 0:\n",
    "        gen_samples.append(x)\n",
    "for _ in range(n_hold_final):\n",
    "    gen_samples.append(x)\n",
    "gen_samples = torch.stack(gen_samples, dim=0).moveaxis(2, 4).squeeze(-1)\n",
    "gen_samples = (gen_samples.clamp(-1, 1) + 1) / 2"
   ]
  },
  {
   "cell_type": "code",
   "execution_count": null,
   "metadata": {},
   "outputs": [],
   "source": [
    "# Process samples and save as gif\n",
    "gen_samples = (gen_samples * 255).type(torch.uint8)\n",
    "gen_samples = gen_samples.reshape(-1, gif_shape[0], gif_shape[1], train_dataset.size, train_dataset.size, train_dataset.depth)\n",
    "\n",
    "def stack_samples(gen_samples, stack_dim):\n",
    "    gen_samples = list(torch.split(gen_samples, 1, dim=1))\n",
    "    for i in range(len(gen_samples)):\n",
    "        gen_samples[i] = gen_samples[i].squeeze(1)\n",
    "    return torch.cat(gen_samples, dim=stack_dim)\n",
    "\n",
    "gen_samples = stack_samples(gen_samples, 2)\n",
    "gen_samples = stack_samples(gen_samples, 2)\n",
    "\n",
    "imageio.mimsave(\n",
    "    f\"{trainer.logger.log_dir}/pred.gif\",\n",
    "    list(gen_samples),\n",
    "    fps=5,\n",
    ")"
   ]
  }
 ],
 "metadata": {
  "kernelspec": {
   "display_name": "py39",
   "language": "python",
   "name": "python3"
  },
  "language_info": {
   "codemirror_mode": {
    "name": "ipython",
    "version": 3
   },
   "file_extension": ".py",
   "mimetype": "text/x-python",
   "name": "python",
   "nbconvert_exporter": "python",
   "pygments_lexer": "ipython3",
   "version": "3.9.15"
  }
 },
 "nbformat": 4,
 "nbformat_minor": 2
}
